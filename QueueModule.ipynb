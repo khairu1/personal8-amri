{
 "cells": [
  {
   "cell_type": "code",
   "execution_count": 1,
   "id": "306ff7f7",
   "metadata": {},
   "outputs": [
    {
     "name": "stdout",
     "output_type": "stream",
     "text": [
      "True\n",
      "True\n",
      "1\n",
      "2\n"
     ]
    }
   ],
   "source": [
    "#   Created by Elshad Karimov on 31/05/2020.\n",
    "#   Copyright © 2020 AppMillers. All rights reserved.\n",
    "\n",
    "import queue as q\n",
    "\n",
    "customQueue = q.Queue(maxsize=3)\n",
    "print(customQueue.empty())\n",
    "customQueue.put(1)\n",
    "customQueue.put(2)\n",
    "customQueue.put(3)\n",
    "print(customQueue.full())\n",
    "print(customQueue.get())\n",
    "print(customQueue.qsize())"
   ]
  },
  {
   "cell_type": "code",
   "execution_count": null,
   "id": "d2166e27",
   "metadata": {},
   "outputs": [],
   "source": []
  }
 ],
 "metadata": {
  "kernelspec": {
   "display_name": "Python 3 (ipykernel)",
   "language": "python",
   "name": "python3"
  },
  "language_info": {
   "codemirror_mode": {
    "name": "ipython",
    "version": 3
   },
   "file_extension": ".py",
   "mimetype": "text/x-python",
   "name": "python",
   "nbconvert_exporter": "python",
   "pygments_lexer": "ipython3",
   "version": "3.9.12"
  }
 },
 "nbformat": 4,
 "nbformat_minor": 5
}
