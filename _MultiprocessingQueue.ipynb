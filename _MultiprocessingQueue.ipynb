{
 "cells": [
  {
   "cell_type": "code",
   "execution_count": 1,
   "id": "adbf8db7",
   "metadata": {},
   "outputs": [
    {
     "name": "stdout",
     "output_type": "stream",
     "text": [
      "1\n"
     ]
    }
   ],
   "source": [
    "#   Created by Elshad Karimov on 31/05/2020.\n",
    "#   Copyright © 2020 AppMillers. All rights reserved.\n",
    "\n",
    "# How to use multiprocessing.Queue as a FIFO queue:\n",
    "\n",
    "from multiprocessing import Queue\n",
    "\n",
    "customQueue = Queue(maxsize= 3)\n",
    "customQueue.put(1)\n",
    "print(customQueue.get())"
   ]
  },
  {
   "cell_type": "code",
   "execution_count": null,
   "id": "79af1618",
   "metadata": {},
   "outputs": [],
   "source": []
  }
 ],
 "metadata": {
  "kernelspec": {
   "display_name": "Python 3 (ipykernel)",
   "language": "python",
   "name": "python3"
  },
  "language_info": {
   "codemirror_mode": {
    "name": "ipython",
    "version": 3
   },
   "file_extension": ".py",
   "mimetype": "text/x-python",
   "name": "python",
   "nbconvert_exporter": "python",
   "pygments_lexer": "ipython3",
   "version": "3.9.12"
  }
 },
 "nbformat": 4,
 "nbformat_minor": 5
}
